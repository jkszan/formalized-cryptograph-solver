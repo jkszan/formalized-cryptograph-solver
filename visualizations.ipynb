{
 "cells": [
  {
   "cell_type": "code",
   "execution_count": 8,
   "metadata": {},
   "outputs": [
    {
     "name": "stdout",
     "output_type": "stream",
     "text": [
      "Requirement already satisfied: pip in c:\\program files\\windowsapps\\pythonsoftwarefoundation.python.3.10_3.10.3056.0_x64__qbz5n2kfra8p0\\lib\\site-packages (23.0.1)\n",
      "Collecting pip\n",
      "  Downloading pip-24.0-py3-none-any.whl (2.1 MB)\n",
      "     ---------------------------------------- 0.0/2.1 MB ? eta -:--:--\n",
      "     ------ --------------------------------- 0.3/2.1 MB 10.9 MB/s eta 0:00:01\n",
      "     --------------- ------------------------ 0.8/2.1 MB 10.4 MB/s eta 0:00:01\n",
      "     ------------------------- -------------- 1.3/2.1 MB 10.6 MB/s eta 0:00:01\n",
      "     ---------------------------------- ----- 1.8/2.1 MB 10.5 MB/s eta 0:00:01\n",
      "     ---------------------------------------  2.1/2.1 MB 10.3 MB/s eta 0:00:01\n",
      "     ---------------------------------------- 2.1/2.1 MB 8.4 MB/s eta 0:00:00\n",
      "Installing collected packages: pip\n",
      "Successfully installed pip-24.0\n"
     ]
    },
    {
     "name": "stderr",
     "output_type": "stream",
     "text": [
      "\n",
      "[notice] A new release of pip is available: 23.0.1 -> 24.0\n",
      "[notice] To update, run: C:\\Users\\jacob\\AppData\\Local\\Microsoft\\WindowsApps\\PythonSoftwareFoundation.Python.3.10_qbz5n2kfra8p0\\python.exe -m pip install --upgrade pip\n"
     ]
    },
    {
     "name": "stdout",
     "output_type": "stream",
     "text": [
      "Requirement already satisfied: tqdm in c:\\users\\jacob\\appdata\\local\\packages\\pythonsoftwarefoundation.python.3.10_qbz5n2kfra8p0\\localcache\\local-packages\\python310\\site-packages (4.66.2)\n",
      "Requirement already satisfied: colorama in c:\\users\\jacob\\appdata\\local\\packages\\pythonsoftwarefoundation.python.3.10_qbz5n2kfra8p0\\localcache\\local-packages\\python310\\site-packages (from tqdm) (0.4.4)\n"
     ]
    },
    {
     "name": "stderr",
     "output_type": "stream",
     "text": [
      "ERROR: Could not find a version that satisfies the requirement concurrent (from versions: none)\n",
      "ERROR: No matching distribution found for concurrent\n"
     ]
    }
   ],
   "source": [
    "!python -m pip install --upgrade pip\n",
    "!pip install tqdm\n"
   ]
  },
  {
   "cell_type": "code",
   "execution_count": 10,
   "metadata": {},
   "outputs": [],
   "source": [
    "import tqdm\n",
    "from concurrent.futures import ProcessPoolExecutor\n",
    "\n",
    "from src.jakobsensAlgorithm import jakobsensAlgorithm"
   ]
  },
  {
   "cell_type": "markdown",
   "metadata": {},
   "source": [
    "# Performance Visualization of Jakobsen's Algorithm"
   ]
  },
  {
   "cell_type": "code",
   "execution_count": 11,
   "metadata": {},
   "outputs": [],
   "source": [
    "# Helper function to get results\n",
    "def getResults(decryptionFunction, wordLengths, spacesRemoved, numberOfTrials, max_workers=12):\n",
    "\n",
    "    # Getting results of Jakobsen's with spaced queries\n",
    "    results = {}\n",
    "    jobQueue = []\n",
    "    executor = ProcessPoolExecutor(max_workers=max_workers)\n",
    "\n",
    "    for length in wordLengths:\n",
    "        results[length] = []\n",
    "\n",
    "        for _ in range(numberOfTrials):\n",
    "            jobQueue.append(executor.submit(decryptionFunction, length, spacesRemoved))\n",
    "        \n",
    "        for future in tqdm.tqdm(jobQueue, desc=\"Processing trials of length \" + str(length)):\n",
    "            results[length].append(future.result())\n",
    "        executor.shutdown()\n",
    "    \n",
    "    return results"
   ]
  },
  {
   "cell_type": "markdown",
   "metadata": {},
   "source": [
    "## Computing Data"
   ]
  },
  {
   "cell_type": "code",
   "execution_count": null,
   "metadata": {},
   "outputs": [],
   "source": [
    "# Common Values\n",
    "wordLengths = [10, 15, 20, 25, 50, 75, 100, 200, 300, 400, 500]\n",
    "numberOfTrials = 100"
   ]
  },
  {
   "cell_type": "code",
   "execution_count": null,
   "metadata": {},
   "outputs": [],
   "source": [
    "resultsSpaced = (jakobsensAlgorithm, wordLengths, False, numberOfTrials, 12)"
   ]
  },
  {
   "cell_type": "code",
   "execution_count": 4,
   "metadata": {},
   "outputs": [
    {
     "name": "stdout",
     "output_type": "stream",
     "text": [
      "Processing trial 0 of length 10\r"
     ]
    },
    {
     "ename": "KeyboardInterrupt",
     "evalue": "",
     "output_type": "error",
     "traceback": [
      "\u001b[1;31m---------------------------------------------------------------------------\u001b[0m",
      "\u001b[1;31mKeyboardInterrupt\u001b[0m                         Traceback (most recent call last)",
      "Cell \u001b[1;32mIn[4], line 11\u001b[0m\n\u001b[0;32m      9\u001b[0m \u001b[38;5;28;01mfor\u001b[39;00m i \u001b[38;5;129;01min\u001b[39;00m \u001b[38;5;28mrange\u001b[39m(numberOfTrials):\n\u001b[0;32m     10\u001b[0m     \u001b[38;5;28mprint\u001b[39m(\u001b[38;5;124m\"\u001b[39m\u001b[38;5;124mProcessing trial\u001b[39m\u001b[38;5;124m\"\u001b[39m, i, \u001b[38;5;124m\"\u001b[39m\u001b[38;5;124mof length\u001b[39m\u001b[38;5;124m\"\u001b[39m, length, end \u001b[38;5;241m=\u001b[39m \u001b[38;5;124m\"\u001b[39m\u001b[38;5;130;01m\\r\u001b[39;00m\u001b[38;5;124m\"\u001b[39m)\n\u001b[1;32m---> 11\u001b[0m     resultsSpaced[length]\u001b[38;5;241m.\u001b[39mappend(\u001b[43mjakobsens\u001b[49m\u001b[38;5;241;43m.\u001b[39;49m\u001b[43mjakobsensAlgorithm\u001b[49m\u001b[43m(\u001b[49m\u001b[43mlength\u001b[49m\u001b[43m,\u001b[49m\u001b[43m \u001b[49m\u001b[38;5;28;43;01mFalse\u001b[39;49;00m\u001b[43m)\u001b[49m)\n",
      "File \u001b[1;32mc:\\Users\\jacob\\Documents\\GitHub\\formalized-cryptograph-solver\\src\\jakobsensAlgorithm.py:146\u001b[0m, in \u001b[0;36mjakobsensAlgorithm\u001b[1;34m(plaintextWords, spacesRemoved)\u001b[0m\n\u001b[0;32m    144\u001b[0m \u001b[38;5;28;01mdef\u001b[39;00m \u001b[38;5;21mjakobsensAlgorithm\u001b[39m(plaintextWords, spacesRemoved \u001b[38;5;241m=\u001b[39m \u001b[38;5;28;01mFalse\u001b[39;00m):\n\u001b[1;32m--> 146\u001b[0m     plaintext \u001b[38;5;241m=\u001b[39m \u001b[43mselectPlainText\u001b[49m\u001b[43m(\u001b[49m\u001b[43mplaintextWords\u001b[49m\u001b[43m)\u001b[49m\n\u001b[0;32m    148\u001b[0m     \u001b[38;5;28;01mif\u001b[39;00m spacesRemoved:\n\u001b[0;32m    149\u001b[0m         plaintext \u001b[38;5;241m=\u001b[39m plaintext\u001b[38;5;241m.\u001b[39mreplace(\u001b[38;5;124m\"\u001b[39m\u001b[38;5;124m \u001b[39m\u001b[38;5;124m\"\u001b[39m, \u001b[38;5;124m\"\u001b[39m\u001b[38;5;124m\"\u001b[39m)\n",
      "File \u001b[1;32mc:\\Users\\jacob\\Documents\\GitHub\\formalized-cryptograph-solver\\src\\utils\\utils.py:14\u001b[0m, in \u001b[0;36mselectPlainText\u001b[1;34m(numWords, sourceDir)\u001b[0m\n\u001b[0;32m     11\u001b[0m \u001b[38;5;28;01mwhile\u001b[39;00m \u001b[38;5;129;01mnot\u001b[39;00m fileFound:\n\u001b[0;32m     13\u001b[0m     \u001b[38;5;28;01mwhile\u001b[39;00m \u001b[38;5;129;01mnot\u001b[39;00m chosenFile\u001b[38;5;241m.\u001b[39mendswith(\u001b[38;5;124m\"\u001b[39m\u001b[38;5;124m.txt\u001b[39m\u001b[38;5;124m\"\u001b[39m):\n\u001b[1;32m---> 14\u001b[0m         chosenFile \u001b[38;5;241m=\u001b[39m fileList[\u001b[43mrandom\u001b[49m\u001b[38;5;241;43m.\u001b[39;49m\u001b[43mrandint\u001b[49m\u001b[43m(\u001b[49m\u001b[38;5;241;43m0\u001b[39;49m\u001b[43m,\u001b[49m\u001b[43m \u001b[49m\u001b[38;5;28;43mlen\u001b[39;49m\u001b[43m(\u001b[49m\u001b[43mfileList\u001b[49m\u001b[43m)\u001b[49m\u001b[38;5;241;43m-\u001b[39;49m\u001b[38;5;241;43m1\u001b[39;49m\u001b[43m)\u001b[49m]\n\u001b[0;32m     16\u001b[0m     \u001b[38;5;28;01mwith\u001b[39;00m \u001b[38;5;28mopen\u001b[39m(sourceDir \u001b[38;5;241m+\u001b[39m chosenFile, \u001b[38;5;124m\"\u001b[39m\u001b[38;5;124mr\u001b[39m\u001b[38;5;124m\"\u001b[39m, encoding\u001b[38;5;241m=\u001b[39m\u001b[38;5;124m\"\u001b[39m\u001b[38;5;124mUTF-8\u001b[39m\u001b[38;5;124m\"\u001b[39m) \u001b[38;5;28;01mas\u001b[39;00m file:\n\u001b[0;32m     17\u001b[0m         text \u001b[38;5;241m=\u001b[39m file\u001b[38;5;241m.\u001b[39mread()\n",
      "File \u001b[1;32mC:\\Program Files\\WindowsApps\\PythonSoftwareFoundation.Python.3.10_3.10.3056.0_x64__qbz5n2kfra8p0\\lib\\random.py:366\u001b[0m, in \u001b[0;36mRandom.randint\u001b[1;34m(self, a, b)\u001b[0m\n\u001b[0;32m    363\u001b[0m         \u001b[38;5;28;01mraise\u001b[39;00m \u001b[38;5;167;01mValueError\u001b[39;00m(\u001b[38;5;124m\"\u001b[39m\u001b[38;5;124mempty range for randrange()\u001b[39m\u001b[38;5;124m\"\u001b[39m)\n\u001b[0;32m    364\u001b[0m     \u001b[38;5;28;01mreturn\u001b[39;00m istart \u001b[38;5;241m+\u001b[39m istep \u001b[38;5;241m*\u001b[39m \u001b[38;5;28mself\u001b[39m\u001b[38;5;241m.\u001b[39m_randbelow(n)\n\u001b[1;32m--> 366\u001b[0m \u001b[38;5;28;01mdef\u001b[39;00m \u001b[38;5;21mrandint\u001b[39m(\u001b[38;5;28mself\u001b[39m, a, b):\n\u001b[0;32m    367\u001b[0m \u001b[38;5;250m    \u001b[39m\u001b[38;5;124;03m\"\"\"Return random integer in range [a, b], including both end points.\u001b[39;00m\n\u001b[0;32m    368\u001b[0m \u001b[38;5;124;03m    \"\"\"\u001b[39;00m\n\u001b[0;32m    370\u001b[0m     \u001b[38;5;28;01mreturn\u001b[39;00m \u001b[38;5;28mself\u001b[39m\u001b[38;5;241m.\u001b[39mrandrange(a, b\u001b[38;5;241m+\u001b[39m\u001b[38;5;241m1\u001b[39m)\n",
      "\u001b[1;31mKeyboardInterrupt\u001b[0m: "
     ]
    }
   ],
   "source": []
  },
  {
   "cell_type": "code",
   "execution_count": null,
   "metadata": {},
   "outputs": [],
   "source": [
    "resultsSpaceless = (jakobsensAlgorithm, wordLengths, True, numberOfTrials, 12)"
   ]
  },
  {
   "cell_type": "markdown",
   "metadata": {},
   "source": [
    "## Creating Graph"
   ]
  },
  {
   "cell_type": "markdown",
   "metadata": {},
   "source": [
    "### Old Stuff"
   ]
  },
  {
   "cell_type": "code",
   "execution_count": null,
   "metadata": {},
   "outputs": [],
   "source": [
    "# Getting results of Jakobsen's with spaced queries\n",
    "resultsSpacedOld = {}\n",
    "spacedJobQueue = []\n",
    "spacedExecutor = ProcessPoolExecutor(max_workers=12)\n",
    "wordLengthsOld = []\n",
    "for length in wordLengthsOld:\n",
    "    resultsSpaced[length] = []\n",
    "\n",
    "    for _ in range(numberOfTrials):\n",
    "        spacedJobQueue.append(spacedExecutor.submit(jakobsensAlgorithm, length, False))\n",
    "    \n",
    "    for future in tqdm.tqdm(spacedJobQueue, desc=\"Processing trials of length \" + str(length)):\n",
    "        resultsSpacedOld[length].append(future.result())\n",
    "    spacedExecutor.shutdown()\n",
    "\n",
    "\n",
    "# Getting results of Jakobsens on spaceless queries\n",
    "resultsSpacelessOld = {}\n",
    "spacelessJobQueue = []\n",
    "spacelessExecutor = ProcessPoolExecutor(max_workers=12)\n",
    "\n",
    "for length in wordLengthsOld:\n",
    "    resultsSpaceless[length] = []\n",
    "\n",
    "    for _ in range(numberOfTrials):\n",
    "        spacelessJobQueue.append(spacelessExecutor.submit(jakobsensAlgorithm, length, True))\n",
    "    \n",
    "    for future in tqdm.tqdm(spacelessJobQueue, desc=\"Processing trials of length \" + str(length)):\n",
    "        resultsSpacelessOld[length].append(future.result())\n",
    "    spacelessExecutor.shutdown()"
   ]
  }
 ],
 "metadata": {
  "kernelspec": {
   "display_name": "Python 3",
   "language": "python",
   "name": "python3"
  },
  "language_info": {
   "codemirror_mode": {
    "name": "ipython",
    "version": 3
   },
   "file_extension": ".py",
   "mimetype": "text/x-python",
   "name": "python",
   "nbconvert_exporter": "python",
   "pygments_lexer": "ipython3",
   "version": "3.10.11"
  }
 },
 "nbformat": 4,
 "nbformat_minor": 2
}
